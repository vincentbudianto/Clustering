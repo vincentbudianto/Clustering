{
 "cells": [
  {
   "cell_type": "markdown",
   "metadata": {},
   "source": [
    "# Tugas Besar 2 IF3270 - Machine Learning\n",
    "------------------------------------------\n",
    "##### NIM/Nama  : 13517014/Yoel Susanto | 13517065/Andrian Cedric | 13517131/Jan Meyer Saragih | 13517137/Vincent Budianto\n",
    "##### Nama file : Tubes2_13517014_Agglomerative.ipynb\n",
    "##### Topik     : Implementasi modul Agglomerative Clustering\n",
    "##### Tanggal   : 19 April 2020\n",
    "------------------------------------------"
   ]
  },
  {
   "cell_type": "code",
   "execution_count": 1,
   "metadata": {},
   "outputs": [],
   "source": [
    "from sklearn import datasets\n",
    "\n",
    "from sklearn.cluster import KMeans\n",
    "from sklearn.cluster import AgglomerativeClustering\n",
    "\n",
    "from sklearn.metrics import silhouette_score\n",
    "from sklearn.metrics.cluster import fowlkes_mallows_score\n",
    "\n",
    "from BagianA.src.kmeans import *\n",
    "from BagianB.src.agglomerative import *\n",
    "\n",
    "import matplotlib.pyplot as plt\n",
    "import numpy as np\n",
    "import pandas as pd"
   ]
  },
  {
   "cell_type": "markdown",
   "metadata": {},
   "source": [
    "## Loading Iris Dataset"
   ]
  },
  {
   "cell_type": "code",
   "execution_count": 2,
   "metadata": {},
   "outputs": [],
   "source": [
    "iris = datasets.load_iris()\n",
    "data = iris.data\n",
    "target = iris.target"
   ]
  },
  {
   "cell_type": "markdown",
   "metadata": {},
   "source": [
    "## K-Means"
   ]
  },
  {
   "cell_type": "code",
   "execution_count": 3,
   "metadata": {},
   "outputs": [
    {
     "name": "stdout",
     "output_type": "stream",
     "text": [
      "fowlkes mallows score: 0.8112427991975698\n",
      "     silhouette score: 0.5511916046195916\n"
     ]
    }
   ],
   "source": [
    "km_clusters = kmeans(n_clusters=3)\n",
    "km_clusters.fit(data)\n",
    "km_target = km_clusters.labels\n",
    "print('fowlkes mallows score:', fowlkes_mallows_score(target, km_target))\n",
    "print('     silhouette score:', silhouette_score(data, km_target, metric='euclidean'))"
   ]
  },
  {
   "cell_type": "markdown",
   "metadata": {},
   "source": [
    "## Agglomerative"
   ]
  },
  {
   "cell_type": "markdown",
   "metadata": {},
   "source": [
    "### Complete Linkage"
   ]
  },
  {
   "cell_type": "code",
   "execution_count": null,
   "metadata": {},
   "outputs": [
    {
     "name": "stdout",
     "output_type": "stream",
     "text": [
      "fowlkes mallows score: 0.7686371028513819\n",
      "     silhouette score: 0.5135953221192208\n"
     ]
    }
   ],
   "source": [
    "agglo_complete_clusters = agglomerative(n_clusters=3, linkage=\"complete\")\n",
    "agglo_complete_clusters.fit(data)\n",
    "agglo_complete_target = agglo_complete_clusters.resultLabels\n",
    "print('fowlkes mallows score:', fowlkes_mallows_score(target, agglo_complete_target))\n",
    "print('     silhouette score:', silhouette_score(data, agglo_complete_target, metric='euclidean'))"
   ]
  },
  {
   "cell_type": "markdown",
   "metadata": {},
   "source": [
    "### Single Linkage"
   ]
  },
  {
   "cell_type": "code",
   "execution_count": null,
   "metadata": {},
   "outputs": [
    {
     "name": "stdout",
     "output_type": "stream",
     "text": [
      "fowlkes mallows score: 0.7635170681000877\n",
      "     silhouette score: 0.5121107753649304\n"
     ]
    }
   ],
   "source": [
    "agglo_single_clusters = agglomerative(n_clusters=3, linkage=\"single\")\n",
    "agglo_single_clusters.fit(data)\n",
    "agglo_single_target = agglo_single_clusters.resultLabels\n",
    "print('fowlkes mallows score:', fowlkes_mallows_score(target, agglo_single_target))\n",
    "print('     silhouette score:', silhouette_score(data, agglo_single_target, metric='euclidean'))"
   ]
  },
  {
   "cell_type": "markdown",
   "metadata": {},
   "source": [
    "### Average Linkage"
   ]
  },
  {
   "cell_type": "code",
   "execution_count": null,
   "metadata": {},
   "outputs": [
    {
     "name": "stdout",
     "output_type": "stream",
     "text": [
      "fowlkes mallows score: 0.8407289157574822\n",
      "     silhouette score: 0.5541608580282847\n"
     ]
    }
   ],
   "source": [
    "agglo_average_clusters = agglomerative(n_clusters=3, linkage=\"average\")\n",
    "agglo_average_clusters.fit(data)\n",
    "agglo_average_target = agglo_average_clusters.resultLabels\n",
    "print('fowlkes mallows score:', fowlkes_mallows_score(target, agglo_average_target))\n",
    "print('     silhouette score:', silhouette_score(data, agglo_average_target, metric='euclidean'))"
   ]
  },
  {
   "cell_type": "markdown",
   "metadata": {},
   "source": [
    "### Average Group Linkage"
   ]
  },
  {
   "cell_type": "code",
   "execution_count": null,
   "metadata": {
    "scrolled": false
   },
   "outputs": [],
   "source": [
    "agglo_average_group_clusters = agglomerative(n_clusters=3, linkage=\"average_group\")\n",
    "agglo_average_group_clusters.fit(data)\n",
    "agglo_average_group_target = agglo_average_group_clusters.resultLabels\n",
    "print('fowlkes mallows score:', fowlkes_mallows_score(target, agglo_average_group_target))\n",
    "print('     silhouette score:', silhouette_score(data, agglo_average_group_target, metric='euclidean'))"
   ]
  },
  {
   "cell_type": "markdown",
   "metadata": {},
   "source": [
    "## Iris Dataset Visualization"
   ]
  },
  {
   "cell_type": "code",
   "execution_count": null,
   "metadata": {},
   "outputs": [],
   "source": [
    "fig, axes = plt.subplots(1, 3, figsize=(24,8))\n",
    "\n",
    "# Actual dataset\n",
    "axes[0].scatter(data[:,0], data[:,1], c=target, cmap='gist_rainbow', edgecolor='k', s=150)\n",
    "axes[0].set_title('Actual Dataset', fontsize=18)\n",
    "axes[0].set_xlabel('Sepal Length', fontsize=18)\n",
    "axes[0].set_ylabel('Sepal Width', fontsize=18)\n",
    "axes[0].tick_params(direction='in', length=10, width=5, colors='k', labelsize=20)\n",
    "\n",
    "# K-Means dataset\n",
    "axes[1].scatter(data[:,0], data[:,1], c=km_target, cmap='brg', edgecolor='k', s=150)\n",
    "axes[1].set_title('K-Means', fontsize=18)\n",
    "axes[1].set_xlabel('Sepal Length', fontsize=18)\n",
    "axes[1].set_ylabel('Sepal Width', fontsize=18)\n",
    "axes[1].tick_params(direction='in', length=10, width=5, colors='k', labelsize=20)\n",
    "\n",
    "# Complete Agglomerative dataset\n",
    "axes[2].scatter(data[:,0], data[:,1], c=agglo_complete_target, cmap='rainbow', edgecolor='k', s=150)\n",
    "axes[2].set_title('Complete Agglomerative', fontsize=18)\n",
    "axes[2].set_xlabel('Sepal Length', fontsize=18)\n",
    "axes[2].set_ylabel('Sepal Width', fontsize=18)\n",
    "axes[2].tick_params(direction='in', length=10, width=5, colors='k', labelsize=20)"
   ]
  },
  {
   "cell_type": "code",
   "execution_count": null,
   "metadata": {},
   "outputs": [],
   "source": [
    "figPetal, axesPetal = plt.subplots(1, 3, figsize=(24,8))\n",
    "\n",
    "# Actual dataset\n",
    "axesPetal[0].scatter(data[:,2], data[:,3], c=target, cmap='gist_rainbow', edgecolor='k', s=150)\n",
    "axesPetal[0].set_title('Actual Dataset', fontsize=18)\n",
    "axesPetal[0].set_xlabel('Petal Length', fontsize=18)\n",
    "axesPetal[0].set_ylabel('Petal Width', fontsize=18)\n",
    "axesPetal[0].tick_params(direction='in', length=10, width=5, colors='k', labelsize=20)\n",
    "\n",
    "# K-Means dataset\n",
    "axesPetal[1].scatter(data[:,2], data[:,3], c=km_target, cmap='brg', edgecolor='k', s=150)\n",
    "axesPetal[1].set_title('K-Means', fontsize=18)\n",
    "axesPetal[1].set_xlabel('Petal Length', fontsize=18)\n",
    "axesPetal[1].set_ylabel('Petal Width', fontsize=18)\n",
    "axesPetal[1].tick_params(direction='in', length=10, width=5, colors='k', labelsize=20)\n",
    "\n",
    "# Complete Agglomerative dataset\n",
    "axesPetal[2].scatter(data[:,2], data[:,3], c=agglo_complete_target, cmap='rainbow', edgecolor='k', s=150)\n",
    "axesPetal[2].set_title('Complete Agglomerative', fontsize=18)\n",
    "axesPetal[2].set_xlabel('Petal Length', fontsize=18)\n",
    "axesPetal[2].set_ylabel('Petal Width', fontsize=18)\n",
    "axesPetal[2].tick_params(direction='in', length=10, width=5, colors='k', labelsize=20)"
   ]
  }
 ],
 "metadata": {
  "file_extension": ".py",
  "kernelspec": {
   "display_name": "Python 3",
   "language": "python",
   "name": "python3"
  },
  "language_info": {
   "codemirror_mode": {
    "name": "ipython",
    "version": 3
   },
   "file_extension": ".py",
   "mimetype": "text/x-python",
   "name": "python",
   "nbconvert_exporter": "python",
   "pygments_lexer": "ipython3",
   "version": "3.7.1"
  },
  "mimetype": "text/x-python",
  "name": "python",
  "npconvert_exporter": "python",
  "pygments_lexer": "ipython3",
  "version": 3
 },
 "nbformat": 4,
 "nbformat_minor": 2
}
